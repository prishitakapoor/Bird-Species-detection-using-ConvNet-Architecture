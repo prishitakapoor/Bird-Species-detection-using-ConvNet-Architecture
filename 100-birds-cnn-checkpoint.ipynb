{
 "cells": [
  {
   "cell_type": "code",
   "execution_count": null,
   "metadata": {},
   "outputs": [],
   "source": [
    "print((history_alexnet.history['accuracy']))  \n",
    "\n",
    "\n",
    "[0.1820247, 0.46434757, 0.62376827, 0.7447395, 0.8445549, 0.91776234, 0.9641346, 0.98653984, 0.9952577, 0.998495, 0.9991197, 0.99929005, 0.9997444, 0.999858, 0.9999148]"
   ]
  },
  {
   "cell_type": "code",
   "execution_count": null,
   "metadata": {},
   "outputs": [],
   "source": [
    "print(history_alexnet.history['val_accuracy'])\n",
    "\n",
    "[0.3888, 0.568, 0.6112, 0.6472, 0.6624, 0.6656, 0.6816, 0.6832, 0.6872, 0.696, 0.696, 0.6896, 0.7, 0.7016, 0.6992]"
   ]
  },
  {
   "cell_type": "code",
   "execution_count": null,
   "metadata": {},
   "outputs": [],
   "source": [
    "print(history_alexnet.history['loss'])\n",
    "\n",
    "[4.112076088272847, 2.485526614220969, 1.7473738119698004, 1.2377731672356316, 0.8426936000670185, 0.5479879108823684, 0.34645122563794106, 0.2199889118731208, 0.14892247476738385, 0.10456926057113346, 0.08143665716655041, 0.06583609083815764, 0.055230046648822535, 0.04603192431472181, 0.040753780789308365]\n"
   ]
  },
  {
   "cell_type": "code",
   "execution_count": null,
   "metadata": {},
   "outputs": [],
   "source": [
    "print(history_alexnet.history['val_loss'])\n",
    "\n",
    "[2.7573490023612974, 1.9208141885697843, 1.576185166835785, 1.4706904627382755, 1.3496876027435065, 1.3578807638958097, 1.2598686508834362, 1.2548154385760426, 1.217187990806997, 1.2088070957921446, 1.1964474307373165, 1.2031564361415803, 1.1897366524673998, 1.1937731462530792, 1.180937285721302]\n"
   ]
  },
  {
   "cell_type": "code",
   "execution_count": null,
   "metadata": {},
   "outputs": [],
   "source": []
  },
  {
   "cell_type": "code",
   "execution_count": null,
   "metadata": {},
   "outputs": [],
   "source": []
  },
  {
   "cell_type": "code",
   "execution_count": null,
   "metadata": {},
   "outputs": [],
   "source": []
  },
  {
   "cell_type": "code",
   "execution_count": null,
   "metadata": {},
   "outputs": [],
   "source": []
  },
  {
   "cell_type": "code",
   "execution_count": null,
   "metadata": {},
   "outputs": [],
   "source": []
  },
  {
   "cell_type": "code",
   "execution_count": null,
   "metadata": {},
   "outputs": [],
   "source": []
  }
 ],
 "metadata": {
  "kernelspec": {
   "display_name": "Python 3",
   "language": "python",
   "name": "python3"
  },
  "language_info": {
   "codemirror_mode": {
    "name": "ipython",
    "version": 3
   },
   "file_extension": ".py",
   "mimetype": "text/x-python",
   "name": "python",
   "nbconvert_exporter": "python",
   "pygments_lexer": "ipython3",
   "version": "3.8.8"
  }
 },
 "nbformat": 4,
 "nbformat_minor": 4
}
